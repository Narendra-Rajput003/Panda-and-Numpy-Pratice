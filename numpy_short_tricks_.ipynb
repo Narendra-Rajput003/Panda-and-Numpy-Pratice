{
  "nbformat": 4,
  "nbformat_minor": 0,
  "metadata": {
    "colab": {
      "provenance": []
    },
    "kernelspec": {
      "name": "python3",
      "display_name": "Python 3"
    },
    "language_info": {
      "name": "python"
    }
  },
  "cells": [
    {
      "cell_type": "code",
      "execution_count": null,
      "metadata": {
        "id": "aq4KFG_hnp89"
      },
      "outputs": [],
      "source": [
        "# np.sort()\n",
        "# Sorts an array in ascending order.\n",
        "\n",
        "\n",
        "# import numpy as np\n",
        "# a = np.array([3, 1, 2])\n",
        "# print(np.sort(a))  # [1 2 3]"
      ]
    },
    {
      "cell_type": "code",
      "source": [
        "# np.append()\n",
        "# Appends values to the end of an array.\n",
        "\n",
        "# python\n",
        "# Copy code\n",
        "# a = np.array([1, 2, 3])\n",
        "# print(np.append(a, [4, 5]))  # [1 2 3 4 5]"
      ],
      "metadata": {
        "id": "_Cy0wH9_rgjz"
      },
      "execution_count": null,
      "outputs": []
    },
    {
      "cell_type": "code",
      "source": [
        "# np.concatenate()\n",
        "# Joins two or more arrays along an axis.\n",
        "\n",
        "# python\n",
        "# Copy code\n",
        "# a = np.array([1, 2])\n",
        "# b = np.array([3, 4])\n",
        "# print(np.concatenate((a, b)))  # [1 2 3 4]"
      ],
      "metadata": {
        "id": "92SbLQikrggW"
      },
      "execution_count": null,
      "outputs": []
    },
    {
      "cell_type": "code",
      "source": [
        "#  np.unique()\n",
        "# Finds unique elements in an array.\n",
        "\n",
        "# python\n",
        "# Copy code\n",
        "# a = np.array([1, 2, 2, 3])\n",
        "# print(np.unique(a))  # [1 2 3]"
      ],
      "metadata": {
        "id": "9Wv7CCHxrgcu"
      },
      "execution_count": null,
      "outputs": []
    },
    {
      "cell_type": "code",
      "source": [
        "# np.expand_dims()\n",
        "# Expands the shape of an array by adding a new axis.\n",
        "\n",
        "# python\n",
        "# Copy code\n",
        "# a = np.array([1, 2])\n",
        "# print(np.expand_dims(a, axis=0))  # [[1 2]]"
      ],
      "metadata": {
        "id": "55j1X6skrgaQ"
      },
      "execution_count": null,
      "outputs": []
    },
    {
      "cell_type": "code",
      "source": [
        "# np.where()\n",
        "# Returns indices where a condition is true or selects elements conditionally.\n",
        "\n",
        "# python\n",
        "# Copy code\n",
        "# a = np.array([1, 2, 3])\n",
        "# print(np.where(a > 1))  # (array([1, 2]),)"
      ],
      "metadata": {
        "id": "OXvL40rfrgQE"
      },
      "execution_count": null,
      "outputs": []
    },
    {
      "cell_type": "code",
      "source": [
        "# np.argmax()\n",
        "# Returns the index of the maximum value.\n",
        "\n",
        "# python\n",
        "# Copy code\n",
        "# a = np.array([1, 3, 2])\n",
        "# print(np.argmax(a))  # 1"
      ],
      "metadata": {
        "id": "FNcuuPs3rwSZ"
      },
      "execution_count": null,
      "outputs": []
    },
    {
      "cell_type": "code",
      "source": [
        "# np.cumsum()\n",
        "# Returns the cumulative sum of elements.\n",
        "\n",
        "# python\n",
        "# Copy code\n",
        "# a = np.array([1, 2, 3])\n",
        "# print(np.cumsum(a))  # [1 3 6]"
      ],
      "metadata": {
        "id": "tXp154QGr0QI"
      },
      "execution_count": null,
      "outputs": []
    },
    {
      "cell_type": "code",
      "source": [
        "# np.percentile()\n",
        "# Computes the q-th percentile of data.\n",
        "\n",
        "# python\n",
        "# Copy code\n",
        "# a = np.array([1, 2, 3, 4])\n",
        "# print(np.percentile(a, 50))  # 2.5 (median)"
      ],
      "metadata": {
        "id": "4yCu_775r0Mr"
      },
      "execution_count": null,
      "outputs": []
    },
    {
      "cell_type": "code",
      "source": [
        "# np.histogram()\n",
        "# Computes the histogram of a dataset.\n",
        "\n",
        "# python\n",
        "# Copy code\n",
        "# a = np.array([1, 2, 1])\n",
        "# hist, bins = np.histogram(a, bins=3)\n",
        "# print(hist)  # [2 0 1]"
      ],
      "metadata": {
        "id": "Kk8XFzFNr0KJ"
      },
      "execution_count": null,
      "outputs": []
    },
    {
      "cell_type": "code",
      "source": [
        "# np.corrcoef()\n",
        "# Computes the correlation matrix.\n",
        "\n",
        "# python\n",
        "# Copy code\n",
        "# x = np.array([1, 2, 3])\n",
        "# y = np.array([1, 2, 3])\n",
        "# print(np.corrcoef(x, y))\n",
        "# # [[1. 1.]\n",
        "# #  [1. 1.]]"
      ],
      "metadata": {
        "id": "23uuEwRdr0Hp"
      },
      "execution_count": null,
      "outputs": []
    },
    {
      "cell_type": "code",
      "source": [
        "# np.isin()\n",
        "# Tests whether each element of one array is in another.\n",
        "\n",
        "# python\n",
        "# Copy code\n",
        "# a = np.array([1, 2, 3])\n",
        "# b = np.array([2, 4])\n",
        "# print(np.isin(a, b))  # [False  True False]"
      ],
      "metadata": {
        "id": "LLaGeJBgr-1Y"
      },
      "execution_count": null,
      "outputs": []
    },
    {
      "cell_type": "code",
      "source": [
        "# np.flip()\n",
        "# Reverses the order of elements in an array.\n",
        "\n",
        "# python\n",
        "# Copy code\n",
        "# a = np.array([1, 2, 3])\n",
        "# print(np.flip(a))  # [3 2 1]"
      ],
      "metadata": {
        "id": "miW4mJIWr-x0"
      },
      "execution_count": null,
      "outputs": []
    },
    {
      "cell_type": "code",
      "source": [
        "# np.put()\n",
        "# Replaces specified elements at indices with new values.\n",
        "\n",
        "# python\n",
        "# Copy code\n",
        "# a = np.array([1, 2, 3])\n",
        "# np.put(a, [0, 2], [10, 30])\n",
        "# print(a)  # [10 2 30]"
      ],
      "metadata": {
        "id": "vSzFrVo-r-vK"
      },
      "execution_count": null,
      "outputs": []
    },
    {
      "cell_type": "code",
      "source": [
        "# np.delete()\n",
        "# Deletes elements at specified indices.\n",
        "\n",
        "# python\n",
        "# Copy code\n",
        "# a = np.array([1, 2, 3])\n",
        "# print(np.delete(a, 1))  # [1 3]"
      ],
      "metadata": {
        "id": "u9xIjp_usF0A"
      },
      "execution_count": null,
      "outputs": []
    },
    {
      "cell_type": "code",
      "source": [
        "# np.clip()\n",
        "# Limits values in an array between min and max.\n",
        "\n",
        "# python\n",
        "# Copy code\n",
        "# a = np.array([1, 3, 5])\n",
        "# print(np.clip(a, 2, 4))  # [2 3 4]"
      ],
      "metadata": {
        "id": "7W9zhncxsFwe"
      },
      "execution_count": null,
      "outputs": []
    }
  ]
}